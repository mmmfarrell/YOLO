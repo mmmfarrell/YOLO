{
  "nbformat": 4,
  "nbformat_minor": 0,
  "metadata": {
    "colab": {
      "name": "RSNA_YOLO.ipynb",
      "version": "0.3.2",
      "provenance": [],
      "collapsed_sections": [],
      "toc_visible": true
    },
    "kernelspec": {
      "name": "python3",
      "display_name": "Python 3"
    },
    "accelerator": "GPU"
  },
  "cells": [
    {
      "metadata": {
        "id": "XJ79nvenZ-W4",
        "colab_type": "text"
      },
      "cell_type": "markdown",
      "source": [
        "# RSNA Pneumonia Detection Challenge\n",
        "Team: sciencerulez\n",
        "- Travis Clarke [[github](https://github.com/tclarke104)]\n",
        "- Michael Farrell [[github](https://github.com/mmmfarrell)]"
      ]
    },
    {
      "metadata": {
        "id": "i7NgsR9RYLjR",
        "colab_type": "text"
      },
      "cell_type": "markdown",
      "source": [
        "# Yolo\n",
        "This version we will implement a YOLO detector following the step by step walkthrough\n",
        "- Here's a good walkthough of how to implement it [YOLO ipynb](https://github.com/experiencor/keras-yolo2/blob/master/Yolo%20Step-by-Step.ipynb)\n",
        "- Here's the [YOLO Paper](https://arxiv.org/pdf/1506.02640.pdf)\n",
        "- Here's the [YOLO video](https://www.coursera.org/learn/convolutional-neural-networks/lecture/fF3O0/yolo-algorithm)\n",
        "\n",
        "I've never used Keras, but it looks cool so I'm gonna try to use it"
      ]
    },
    {
      "metadata": {
        "id": "17W0gQcgV1ug",
        "colab_type": "text"
      },
      "cell_type": "markdown",
      "source": [
        "## Download and import dependencies"
      ]
    },
    {
      "metadata": {
        "id": "RsRreytnZelp",
        "colab_type": "code",
        "colab": {}
      },
      "cell_type": "code",
      "source": [
        "# Install dependencies not included by Colab\n",
        "!pip3 install -q pydicom\n",
        "!pip3 install -q tqdm\n",
        "!pip3 install -q imgaug\n",
        "!pip3 install -q keras\n",
        "\n",
        "# Install Kaggle API for download competition data\n",
        "!pip3 install -q kaggle"
      ],
      "execution_count": 0,
      "outputs": []
    },
    {
      "metadata": {
        "id": "UCSKOk6iZQWy",
        "colab_type": "code",
        "colab": {}
      },
      "cell_type": "code",
      "source": [
        "# Test to see if we have GPU\n",
        "# Should say '/device:GPU:0' if successful\n",
        "\n"
      ],
      "execution_count": 0,
      "outputs": []
    },
    {
      "metadata": {
        "id": "e1D4nXpSaJXo",
        "colab_type": "code",
        "colab": {
          "base_uri": "https://localhost:8080/",
          "height": 34
        },
        "outputId": "efca792c-d6f5-4ead-8c29-937bf2b681c3"
      },
      "cell_type": "code",
      "source": [
        "import os\n",
        "import sys\n",
        "\n",
        "import random\n",
        "import math\n",
        "import numpy as np\n",
        "import cv2\n",
        "import matplotlib.pyplot as plt\n",
        "import json\n",
        "import pydicom\n",
        "from imgaug import augmenters as iaa\n",
        "import pandas as pd\n",
        "import glob\n",
        "from keras.utils import Sequence\n",
        "from skimage.io import imread\n",
        "from skimage.transform import resize\n",
        "import tensorflow as tf\n",
        "import copy"
      ],
      "execution_count": 2,
      "outputs": [
        {
          "output_type": "stream",
          "text": [
            "Using TensorFlow backend.\n"
          ],
          "name": "stderr"
        }
      ]
    },
    {
      "metadata": {
        "id": "cQ2cSmZsWTrX",
        "colab_type": "code",
        "colab": {
          "base_uri": "https://localhost:8080/",
          "height": 34
        },
        "outputId": "d772c1b8-44fb-4160-b688-f06ea93fc990"
      },
      "cell_type": "code",
      "source": [
        "tf.test.gpu_device_name()"
      ],
      "execution_count": 3,
      "outputs": [
        {
          "output_type": "execute_result",
          "data": {
            "text/plain": [
              "'/device:GPU:0'"
            ]
          },
          "metadata": {
            "tags": []
          },
          "execution_count": 3
        }
      ]
    },
    {
      "metadata": {
        "id": "H2mp3ZJUq8zO",
        "colab_type": "text"
      },
      "cell_type": "markdown",
      "source": [
        "## Download Kaggle Data"
      ]
    },
    {
      "metadata": {
        "id": "Rk_hc7jcaYUD",
        "colab_type": "code",
        "colab": {}
      },
      "cell_type": "code",
      "source": [
        "# Kaggle credentials\n",
        "os.environ['KAGGLE_USERNAME'] = \"mmmfarrell\"\n",
        "os.environ['KAGGLE_KEY'] = \"caa89d699f3d2d1492b5ad1c70b772ba\""
      ],
      "execution_count": 0,
      "outputs": []
    },
    {
      "metadata": {
        "id": "6Dy1RHCIbB_U",
        "colab_type": "code",
        "colab": {}
      },
      "cell_type": "code",
      "source": [
        "# Root directory of the project\n",
        "ROOT_DIR = os.path.abspath('./kaggle-data')\n",
        "\n",
        "# Directory to save logs and trained model\n",
        "MODEL_DIR = os.path.join(ROOT_DIR, 'logs')\n",
        "\n",
        "if not os.path.exists(ROOT_DIR):\n",
        "    os.makedirs(ROOT_DIR)\n",
        "os.chdir(ROOT_DIR)"
      ],
      "execution_count": 0,
      "outputs": []
    },
    {
      "metadata": {
        "id": "YuZNasHlbp8J",
        "colab_type": "code",
        "colab": {
          "base_uri": "https://localhost:8080/",
          "height": 330
        },
        "outputId": "08eb80f7-1e85-41d9-e263-c4e8f6b3dad9"
      },
      "cell_type": "code",
      "source": [
        "# Download kaggle data\n",
        "!kaggle competitions download -c rsna-pneumonia-detection-challenge"
      ],
      "execution_count": 6,
      "outputs": [
        {
          "output_type": "stream",
          "text": [
            "Downloading GCP%20Credits%20Request%20Link%20-%20RSNA.txt to /content/kaggle-data\n",
            "\r  0% 0.00/55.0 [00:00<?, ?B/s]\n",
            "100% 55.0/55.0 [00:00<00:00, 43.6kB/s]\n",
            "Downloading stage_1_detailed_class_info.csv.zip to /content/kaggle-data\n",
            "  0% 0.00/561k [00:00<?, ?B/s]\n",
            "100% 561k/561k [00:00<00:00, 85.9MB/s]\n",
            "Downloading stage_1_sample_submission.csv to /content/kaggle-data\n",
            "  0% 0.00/51.8k [00:00<?, ?B/s]\n",
            "100% 51.8k/51.8k [00:00<00:00, 42.1MB/s]\n",
            "Downloading stage_1_train_labels.csv.zip to /content/kaggle-data\n",
            "  0% 0.00/634k [00:00<?, ?B/s]\n",
            "100% 634k/634k [00:00<00:00, 115MB/s]\n",
            "Downloading stage_1_test_images.zip to /content/kaggle-data\n",
            " 97% 123M/126M [00:01<00:00, 72.1MB/s]\n",
            "100% 126M/126M [00:01<00:00, 73.0MB/s]\n",
            "Downloading stage_1_train_images.zip to /content/kaggle-data\n",
            "100% 3.16G/3.17G [00:48<00:00, 92.2MB/s]\n",
            "100% 3.17G/3.17G [00:48<00:00, 69.8MB/s]\n"
          ],
          "name": "stdout"
        }
      ]
    },
    {
      "metadata": {
        "id": "tOyTgY1KbwYK",
        "colab_type": "code",
        "colab": {}
      },
      "cell_type": "code",
      "source": [
        "# Unzip the data\n",
        "!unzip -q -o stage_1_test_images.zip -d stage_1_test_images\n",
        "!unzip -q -o stage_1_train_images.zip -d stage_1_train_images\n",
        "!unzip -q -o stage_1_train_labels.csv.zip"
      ],
      "execution_count": 0,
      "outputs": []
    },
    {
      "metadata": {
        "id": "h0HQATnndGL6",
        "colab_type": "code",
        "colab": {}
      },
      "cell_type": "code",
      "source": [
        "train_dicom_dir = os.path.join(ROOT_DIR, 'stage_1_train_images')\n",
        "test_dicom_dir = os.path.join(ROOT_DIR, 'stage_1_test_images')"
      ],
      "execution_count": 0,
      "outputs": []
    },
    {
      "metadata": {
        "id": "N47RqFTQWBNA",
        "colab_type": "text"
      },
      "cell_type": "markdown",
      "source": [
        "## Utils"
      ]
    },
    {
      "metadata": {
        "id": "p7EZLj9tWEzP",
        "colab_type": "code",
        "colab": {}
      },
      "cell_type": "code",
      "source": [
        "class BoundBox:\n",
        "    def __init__(self, xmin, ymin, xmax, ymax):\n",
        "        self.xmin = xmin\n",
        "        self.ymin = ymin\n",
        "        self.xmax = xmax\n",
        "        self.ymax = ymax\n",
        "\n",
        "        self.label = 0\n",
        "        self.score = 0\n",
        "\n",
        "class WeightReader:\n",
        "    def __init__(self, weight_file):\n",
        "        self.offset = 4\n",
        "        self.all_weights = np.fromfile(weight_file, dtype='float32')\n",
        "        \n",
        "    def read_bytes(self, size):\n",
        "        self.offset = self.offset + size\n",
        "        return self.all_weights[self.offset-size:self.offset]\n",
        "    \n",
        "    def reset(self):\n",
        "        self.offset = 4\n",
        "\n",
        "def bbox_iou(box1, box2):\n",
        "    intersect_w = _interval_overlap([box1.xmin, box1.xmax], [box2.xmin, box2.xmax])\n",
        "    intersect_h = _interval_overlap([box1.ymin, box1.ymax], [box2.ymin, box2.ymax])  \n",
        "    \n",
        "    intersect = intersect_w * intersect_h\n",
        "\n",
        "    w1, h1 = box1.xmax-box1.xmin, box1.ymax-box1.ymin\n",
        "    w2, h2 = box2.xmax-box2.xmin, box2.ymax-box2.ymin\n",
        "    \n",
        "    union = w1*h1 + w2*h2 - intersect\n",
        "    \n",
        "    return float(intersect) / union\n",
        "\n",
        "def draw_boxes(image, boxes, labels):\n",
        "    image_h, image_w, _ = image.shape\n",
        "\n",
        "    for box in boxes:\n",
        "        xmin = int(box.xmin*image_w)\n",
        "        ymin = int(box.ymin*image_h)\n",
        "        xmax = int(box.xmax*image_w)\n",
        "        ymax = int(box.ymax*image_h)\n",
        "\n",
        "        cv2.rectangle(image, (xmin,ymin), (xmax,ymax), (0,255,0), 3)\n",
        "        cv2.putText(image, \n",
        "                    labels[box.get_label()] + ' ' + str(box.get_score()), \n",
        "                    (xmin, ymin - 13), \n",
        "                    cv2.FONT_HERSHEY_SIMPLEX, \n",
        "                    1e-3 * image_h, \n",
        "                    (0,255,0), 2)\n",
        "        \n",
        "    return image          \n",
        "        \n",
        "def decode_netout(netout, anchors, nb_class, obj_threshold=0.3, nms_threshold=0.3):\n",
        "    grid_h, grid_w, nb_box = netout.shape[:3]\n",
        "\n",
        "    boxes = []\n",
        "    \n",
        "    # decode the output by the network\n",
        "    netout[..., 4]  = _sigmoid(netout[..., 4])\n",
        "    netout[..., 5:] = netout[..., 4][..., np.newaxis] * _softmax(netout[..., 5:])\n",
        "    netout[..., 5:] *= netout[..., 5:] > obj_threshold\n",
        "    \n",
        "    for row in range(grid_h):\n",
        "        for col in range(grid_w):\n",
        "            for b in range(nb_box):\n",
        "                # from 4th element onwards are confidence and class classes\n",
        "                classes = netout[row,col,b,5:]\n",
        "                \n",
        "                if np.sum(classes) > 0:\n",
        "                    # first 4 elements are x, y, w, and h\n",
        "                    x, y, w, h = netout[row,col,b,:4]\n",
        "\n",
        "                    x = (col + _sigmoid(x)) / grid_w # center position, unit: image width\n",
        "                    y = (row + _sigmoid(y)) / grid_h # center position, unit: image height\n",
        "                    w = anchors[2 * b + 0] * np.exp(w) / grid_w # unit: image width\n",
        "                    h = anchors[2 * b + 1] * np.exp(h) / grid_h # unit: image height\n",
        "                    confidence = netout[row,col,b,4]\n",
        "                    \n",
        "                    box = BoundBox(x-w/2, y-h/2, x+w/2, y+h/2, confidence, classes)\n",
        "                    \n",
        "                    boxes.append(box)\n",
        "\n",
        "    # suppress non-maximal boxes\n",
        "    for c in range(nb_class):\n",
        "        sorted_indices = list(reversed(np.argsort([box.classes[c] for box in boxes])))\n",
        "\n",
        "        for i in range(len(sorted_indices)):\n",
        "            index_i = sorted_indices[i]\n",
        "            \n",
        "            if boxes[index_i].classes[c] == 0: \n",
        "                continue\n",
        "            else:\n",
        "                for j in range(i+1, len(sorted_indices)):\n",
        "                    index_j = sorted_indices[j]\n",
        "                    \n",
        "                    if bbox_iou(boxes[index_i], boxes[index_j]) >= nms_threshold:\n",
        "                        boxes[index_j].classes[c] = 0\n",
        "                        \n",
        "    # remove the boxes which are less likely than a obj_threshold\n",
        "    boxes = [box for box in boxes if box.get_score() > obj_threshold]\n",
        "    \n",
        "    return boxes    \n",
        "\n",
        "def compute_overlap(a, b):\n",
        "    \"\"\"\n",
        "    Code originally from https://github.com/rbgirshick/py-faster-rcnn.\n",
        "    Parameters\n",
        "    ----------\n",
        "    a: (N, 4) ndarray of float\n",
        "    b: (K, 4) ndarray of float\n",
        "    Returns\n",
        "    -------\n",
        "    overlaps: (N, K) ndarray of overlap between boxes and query_boxes\n",
        "    \"\"\"\n",
        "    area = (b[:, 2] - b[:, 0]) * (b[:, 3] - b[:, 1])\n",
        "\n",
        "    iw = np.minimum(np.expand_dims(a[:, 2], axis=1), b[:, 2]) - np.maximum(np.expand_dims(a[:, 0], 1), b[:, 0])\n",
        "    ih = np.minimum(np.expand_dims(a[:, 3], axis=1), b[:, 3]) - np.maximum(np.expand_dims(a[:, 1], 1), b[:, 1])\n",
        "\n",
        "    iw = np.maximum(iw, 0)\n",
        "    ih = np.maximum(ih, 0)\n",
        "\n",
        "    ua = np.expand_dims((a[:, 2] - a[:, 0]) * (a[:, 3] - a[:, 1]), axis=1) + area - iw * ih\n",
        "\n",
        "    ua = np.maximum(ua, np.finfo(float).eps)\n",
        "\n",
        "    intersection = iw * ih\n",
        "\n",
        "    return intersection / ua  \n",
        "    \n",
        "def compute_ap(recall, precision):\n",
        "    \"\"\" Compute the average precision, given the recall and precision curves.\n",
        "    Code originally from https://github.com/rbgirshick/py-faster-rcnn.\n",
        "    # Arguments\n",
        "        recall:    The recall curve (list).\n",
        "        precision: The precision curve (list).\n",
        "    # Returns\n",
        "        The average precision as computed in py-faster-rcnn.\n",
        "    \"\"\"\n",
        "    # correct AP calculation\n",
        "    # first append sentinel values at the end\n",
        "    mrec = np.concatenate(([0.], recall, [1.]))\n",
        "    mpre = np.concatenate(([0.], precision, [0.]))\n",
        "\n",
        "    # compute the precision envelope\n",
        "    for i in range(mpre.size - 1, 0, -1):\n",
        "        mpre[i - 1] = np.maximum(mpre[i - 1], mpre[i])\n",
        "\n",
        "    # to calculate area under PR curve, look for points\n",
        "    # where X axis (recall) changes value\n",
        "    i = np.where(mrec[1:] != mrec[:-1])[0]\n",
        "\n",
        "    # and sum (\\Delta recall) * prec\n",
        "    ap = np.sum((mrec[i + 1] - mrec[i]) * mpre[i + 1])\n",
        "    return ap      \n",
        "        \n",
        "def _interval_overlap(interval_a, interval_b):\n",
        "    x1, x2 = interval_a\n",
        "    x3, x4 = interval_b\n",
        "\n",
        "    if x3 < x1:\n",
        "        if x4 < x1:\n",
        "            return 0\n",
        "        else:\n",
        "            return min(x2,x4) - x1\n",
        "    else:\n",
        "        if x2 < x3:\n",
        "             return 0\n",
        "        else:\n",
        "            return min(x2,x4) - x3          \n",
        "\n",
        "def _sigmoid(x):\n",
        "    return 1. / (1. + np.exp(-x))\n",
        "\n",
        "def _softmax(x, axis=-1, t=-100.):\n",
        "    x = x - np.max(x)\n",
        "    \n",
        "    if np.min(x) < t:\n",
        "        x = x/np.min(x)*t\n",
        "        \n",
        "    e_x = np.exp(x)\n",
        "    \n",
        "    return e_x / e_x.sum(axis, keepdims=True)"
      ],
      "execution_count": 0,
      "outputs": []
    },
    {
      "metadata": {
        "id": "CDVlriMPYWq_",
        "colab_type": "text"
      },
      "cell_type": "markdown",
      "source": [
        "## Preprocessing Functions"
      ]
    },
    {
      "metadata": {
        "id": "PxrpKsD4Yeuu",
        "colab_type": "code",
        "colab": {}
      },
      "cell_type": "code",
      "source": [
        "def get_dicom_fps(dicom_dir):\n",
        "    dicom_fps = glob.glob(dicom_dir+'/'+'*.dcm')\n",
        "    return list(set(dicom_fps))\n",
        "\n",
        "def parse_dataset(dicom_dir, anns): \n",
        "    image_fps = get_dicom_fps(dicom_dir)\n",
        "    image_annotations = {fp: [] for fp in image_fps}\n",
        "    for index, row in anns.iterrows(): \n",
        "        fp = os.path.join(dicom_dir, row['patientId']+'.dcm')\n",
        "        image_annotations[fp].append(row)\n",
        "    return image_fps, image_annotations \n",
        "  \n",
        "def get_image_and_annotation(patientIndex, image_annotations):\n",
        "    # Load image from file path\n",
        "    ds = pydicom.read_file(image_fps[patientIndex])\n",
        "    image = ds.pixel_array\n",
        "    \n",
        "    # Convert image from grayscale to RGB\n",
        "    if len(image.shape) != 3 or image.shape[2] != 3:\n",
        "        image = np.stack((image,) * 3, -1)\n",
        "        \n",
        "    # Get image annotations\n",
        "    annotation = image_annotations[image_fps[patientIndex]]\n",
        "    \n",
        "    return image, annotation\n",
        "    \n",
        "  \n",
        "def convert_annotation_to_mask(annotation ,ORIG_SIZE=1024):\n",
        "    # Original DICOM image size: 1024 x 1024\n",
        "    count = len(annotation)\n",
        "    if count == 0:\n",
        "        mask = np.zeros((ORIG_SIZE, ORIG_SIZE, 1), dtype=np.uint8)\n",
        "        class_ids = np.zeros((1,), dtype=np.int32)\n",
        "    else:\n",
        "        mask = np.zeros((ORIG_SIZE, ORIG_SIZE, count), dtype=np.uint8)\n",
        "        class_ids = np.zeros((count,), dtype=np.int32)\n",
        "        for i, a in enumerate(annotation):\n",
        "            if a['Target'] == 1:\n",
        "                x = int(a['x'])\n",
        "                y = int(a['y'])\n",
        "                w = int(a['width'])\n",
        "                h = int(a['height'])\n",
        "                mask_instance = mask[:, :, i].copy()\n",
        "                cv2.rectangle(mask_instance, (x, y), (x+w, y+h), 255, -1)\n",
        "                mask[:, :, i] = mask_instance\n",
        "                class_ids[i] = 1\n",
        "    return mask.astype(np.bool), class_ids.astype(np.int32)\n",
        "\n",
        "\n",
        "  \n",
        "class BatchGenerator(Sequence):\n",
        "    def __init__(self, config,\n",
        "                 image_fps,\n",
        "                 raw_annotations,\n",
        "                 shuffle=True,\n",
        "                 jitter=True,\n",
        "                 norm=None):\n",
        "        self.generator = None\n",
        "\n",
        "        self.image_fps = image_fps\n",
        "        self.config = config\n",
        "\n",
        "        self.shuffle = shuffle\n",
        "        self.jitter  = jitter\n",
        "        self.norm    = norm\n",
        "        self.ORIG_SIZE = 1024\n",
        "        self.image_annotations = raw_annotations\n",
        "\n",
        "        self.anchors = [BoundBox(0, 0, config['ANCHORS'][2*i], config['ANCHORS'][2*i+1]) for i in range(int(len(config['ANCHORS'])//2))]\n",
        "        \n",
        "        #if shuffle: np.random.shuffle(self.image_fps)\n",
        "\n",
        "    def __len__(self):\n",
        "        return int(np.ceil(float(len(self.image_fps))/self.config['BATCH_SIZE']))\n",
        "    \n",
        "    def size(self):\n",
        "        return len(self.image_fps)\n",
        "      \n",
        "    def num_classes(self):\n",
        "        return len(self.config['LABELS'])\n",
        "\n",
        "    def __getitem__(self, idx):\n",
        "        l_bound = idx*self.config['BATCH_SIZE']\n",
        "        r_bound = (idx+1)*self.config['BATCH_SIZE']\n",
        "        \n",
        "        instance_count = 0\n",
        "        \n",
        "        x_batch = np.zeros((r_bound - l_bound, self.config['IMAGE_H'], self.config['IMAGE_W'], 3))\n",
        "        b_batch = np.zeros((r_bound - l_bound, 1     , 1     , 1    ,  self.config['TRUE_BOX_BUFFER'], 4))\n",
        "        y_batch = np.zeros((r_bound - l_bound, self.config['GRID_W'], self.config['GRID_H'], len(self.anchors), 1+4+self.config['CLASS']))\n",
        "        \n",
        "        if r_bound > len(self.image_fps):\n",
        "            r_bound = len(self.image_fps)\n",
        "            l_bound = r_bound - self.config['BATCH_SIZE']\n",
        "        \n",
        "        for index, example in enumerate(range(l_bound, r_bound)):\n",
        "            true_box_index = 0\n",
        "            image, annotations = self.load_image_and_annotations(example)\n",
        "            \n",
        "            has_box = annotations[0]['Target']\n",
        "     \n",
        "            if has_box:\n",
        "                bboxes = self.create_bboxes(annotations)\n",
        "                label, b_batch, instance_count = self.convert_bboxes_to_out(bboxes, b_batch, instance_count, true_box_index)\n",
        "            else:\n",
        "                label = np.zeros((self.config['GRID_W'], self.config['GRID_H'], len(self.anchors), 1+4+self.config['CLASS']))\n",
        "            \n",
        "            x_batch[index] = image\n",
        "            y_batch[index] = label\n",
        "            \n",
        "            \n",
        "            true_box_index += 1\n",
        "            true_box_index = true_box_index % self.config['TRUE_BOX_BUFFER']\n",
        "            \n",
        "        \n",
        "        return [x_batch, b_batch], y_batch\n",
        "    \n",
        "    def load_image_and_annotations(self, patient_index):\n",
        "        # Load image from file path\n",
        "        ds = pydicom.read_file(self.image_fps[patient_index])\n",
        "        image = ds.pixel_array\n",
        "    \n",
        "        # Convert image from grayscale to RGB\n",
        "        if len(image.shape) != 3 or image.shape[2] != 3:\n",
        "          image = np.stack((image,) * 3, -1)\n",
        "        \n",
        "        # Get image annotations\n",
        "        annotation = self.image_annotations[self.image_fps[patient_index]]\n",
        "                      \n",
        "        return resize(image, (self.config['IMAGE_W'], self.config['IMAGE_H'], 3)), annotation\n",
        "      \n",
        "    def create_bboxes(self, annotations):\n",
        "        bboxes = []\n",
        "        for annotation in annotations:\n",
        "            annotation.x *= (self.config['IMAGE_W']/self.config['ORIG_SIZE'])\n",
        "            annotation.y *= (self.config['IMAGE_H']/self.config['ORIG_SIZE'])\n",
        "            annotation.height *= (self.config['IMAGE_W']/self.config['ORIG_SIZE'])\n",
        "            annotation.width *= (self.config['IMAGE_H']/self.config['ORIG_SIZE'])                                \n",
        "            bboxes.append(BoundBox(annotation.x,\n",
        "                                   annotation.y,\n",
        "                                   annotation.x+annotation.width,\n",
        "                                   annotation.y+annotation.height))\n",
        "        return bboxes\n",
        "      \n",
        "    def convert_bboxes_to_out(self, bboxes, b_batch, instance_count, true_box_index):\n",
        "        out_label = np.zeros((self.config['GRID_W'], self.config['GRID_H'], len(self.anchors), 1+4+self.config['CLASS']))\n",
        "                      \n",
        "        width_grid_cell = float(self.config['IMAGE_W'] / self.config['GRID_W'])\n",
        "        height_grid_cell = float(self.config['IMAGE_H'] / self.config['GRID_H'])\n",
        "      \n",
        "        for bbox in bboxes:\n",
        "                            \n",
        "            center_x = .5*(bbox.xmin + bbox.xmax)\n",
        "            center_y = .5*(bbox.ymin + bbox.ymax)\n",
        "            grid_x = int(np.floor(center_x)/width_grid_cell)\n",
        "            grid_y = int(np.floor(center_y)/height_grid_cell)\n",
        "            center_x = (center_x - grid_x*width_grid_cell)/width_grid_cell\n",
        "            center_y = (center_y - grid_y*height_grid_cell)/height_grid_cell\n",
        "        \n",
        "            \n",
        "        \n",
        "            if grid_x < self.config['GRID_W'] and grid_y < self.config['GRID_H']:\n",
        "                \n",
        "                obj_indx  = 0 # set to zero because we only have one class\n",
        "                        \n",
        "                center_w = (bbox.xmax - bbox.xmin) / width_grid_cell # unit: grid cell\n",
        "                center_h = (bbox.ymax - bbox.ymin) / height_grid_cell # unit: grid cell\n",
        "                        \n",
        "                box = [center_x, center_y, center_w, center_h]\n",
        "\n",
        "                # find the anchor that best predicts this box\n",
        "                best_anchor = -1\n",
        "                max_iou     = -1\n",
        "                        \n",
        "                shifted_box = BoundBox(0, \n",
        "                                       0,\n",
        "                                       center_w,                                                \n",
        "                                       center_h)\n",
        "                        \n",
        "                for i in range(len(self.anchors)):\n",
        "                    anchor = self.anchors[i]\n",
        "                    iou = bbox_iou(shifted_box, anchor)\n",
        "                            \n",
        "                    if max_iou < iou:\n",
        "                        best_anchor = i\n",
        "                        max_iou     = iou\n",
        "                \n",
        "                label = np.array([1, center_x, center_y, center_w, center_h, 0])\n",
        "                out_label[grid_x, grid_y, best_anchor] = label\n",
        "                b_batch[instance_count, 0, 0, 0, true_box_index] = box\n",
        "\n",
        "        return out_label, b_batch, instance_count\n",
        "    \n",
        "    def on_epoch_end(self):\n",
        "        if self.shuffle: np.random.shuffle(self.image_fps)\n",
        "    "
      ],
      "execution_count": 0,
      "outputs": []
    },
    {
      "metadata": {
        "id": "kzvCtVtvrB7l",
        "colab_type": "text"
      },
      "cell_type": "markdown",
      "source": [
        "## Massage the Data"
      ]
    },
    {
      "metadata": {
        "id": "oSFhDlpRdYeQ",
        "colab_type": "text"
      },
      "cell_type": "markdown",
      "source": [
        "### Examine the annotation data, parse the dataset, and view dicom fields"
      ]
    },
    {
      "metadata": {
        "id": "d1QEoghHdhz4",
        "colab_type": "code",
        "colab": {
          "base_uri": "https://localhost:8080/",
          "height": 238
        },
        "outputId": "9b6d0dda-d5f3-46a5-c744-c0d41c5445c9"
      },
      "cell_type": "code",
      "source": [
        "# training dataset\n",
        "raw_annotations = pd.read_csv(os.path.join(ROOT_DIR, 'stage_1_train_labels.csv'))\n",
        "raw_annotations.head(6)"
      ],
      "execution_count": 11,
      "outputs": [
        {
          "output_type": "execute_result",
          "data": {
            "text/html": [
              "<div>\n",
              "<style scoped>\n",
              "    .dataframe tbody tr th:only-of-type {\n",
              "        vertical-align: middle;\n",
              "    }\n",
              "\n",
              "    .dataframe tbody tr th {\n",
              "        vertical-align: top;\n",
              "    }\n",
              "\n",
              "    .dataframe thead th {\n",
              "        text-align: right;\n",
              "    }\n",
              "</style>\n",
              "<table border=\"1\" class=\"dataframe\">\n",
              "  <thead>\n",
              "    <tr style=\"text-align: right;\">\n",
              "      <th></th>\n",
              "      <th>patientId</th>\n",
              "      <th>x</th>\n",
              "      <th>y</th>\n",
              "      <th>width</th>\n",
              "      <th>height</th>\n",
              "      <th>Target</th>\n",
              "    </tr>\n",
              "  </thead>\n",
              "  <tbody>\n",
              "    <tr>\n",
              "      <th>0</th>\n",
              "      <td>0004cfab-14fd-4e49-80ba-63a80b6bddd6</td>\n",
              "      <td>NaN</td>\n",
              "      <td>NaN</td>\n",
              "      <td>NaN</td>\n",
              "      <td>NaN</td>\n",
              "      <td>0</td>\n",
              "    </tr>\n",
              "    <tr>\n",
              "      <th>1</th>\n",
              "      <td>00313ee0-9eaa-42f4-b0ab-c148ed3241cd</td>\n",
              "      <td>NaN</td>\n",
              "      <td>NaN</td>\n",
              "      <td>NaN</td>\n",
              "      <td>NaN</td>\n",
              "      <td>0</td>\n",
              "    </tr>\n",
              "    <tr>\n",
              "      <th>2</th>\n",
              "      <td>00322d4d-1c29-4943-afc9-b6754be640eb</td>\n",
              "      <td>NaN</td>\n",
              "      <td>NaN</td>\n",
              "      <td>NaN</td>\n",
              "      <td>NaN</td>\n",
              "      <td>0</td>\n",
              "    </tr>\n",
              "    <tr>\n",
              "      <th>3</th>\n",
              "      <td>003d8fa0-6bf1-40ed-b54c-ac657f8495c5</td>\n",
              "      <td>NaN</td>\n",
              "      <td>NaN</td>\n",
              "      <td>NaN</td>\n",
              "      <td>NaN</td>\n",
              "      <td>0</td>\n",
              "    </tr>\n",
              "    <tr>\n",
              "      <th>4</th>\n",
              "      <td>00436515-870c-4b36-a041-de91049b9ab4</td>\n",
              "      <td>264.0</td>\n",
              "      <td>152.0</td>\n",
              "      <td>213.0</td>\n",
              "      <td>379.0</td>\n",
              "      <td>1</td>\n",
              "    </tr>\n",
              "    <tr>\n",
              "      <th>5</th>\n",
              "      <td>00436515-870c-4b36-a041-de91049b9ab4</td>\n",
              "      <td>562.0</td>\n",
              "      <td>152.0</td>\n",
              "      <td>256.0</td>\n",
              "      <td>453.0</td>\n",
              "      <td>1</td>\n",
              "    </tr>\n",
              "  </tbody>\n",
              "</table>\n",
              "</div>"
            ],
            "text/plain": [
              "                              patientId      x      y  width  height  Target\n",
              "0  0004cfab-14fd-4e49-80ba-63a80b6bddd6    NaN    NaN    NaN     NaN       0\n",
              "1  00313ee0-9eaa-42f4-b0ab-c148ed3241cd    NaN    NaN    NaN     NaN       0\n",
              "2  00322d4d-1c29-4943-afc9-b6754be640eb    NaN    NaN    NaN     NaN       0\n",
              "3  003d8fa0-6bf1-40ed-b54c-ac657f8495c5    NaN    NaN    NaN     NaN       0\n",
              "4  00436515-870c-4b36-a041-de91049b9ab4  264.0  152.0  213.0   379.0       1\n",
              "5  00436515-870c-4b36-a041-de91049b9ab4  562.0  152.0  256.0   453.0       1"
            ]
          },
          "metadata": {
            "tags": []
          },
          "execution_count": 11
        }
      ]
    },
    {
      "metadata": {
        "id": "u3WhrMn8vA0f",
        "colab_type": "code",
        "colab": {
          "base_uri": "https://localhost:8080/",
          "height": 409
        },
        "outputId": "cd6e8253-9271-4cd3-bb7f-8cfecdf74521"
      },
      "cell_type": "code",
      "source": [
        "image_fps, image_annotations = parse_dataset(train_dicom_dir, anns=raw_annotations)\n",
        "\n",
        "LABELS = ['PN'] # for pneumonia\n",
        "\n",
        "config = dict(\n",
        "    IMAGE_H = 416, \n",
        "    IMAGE_W = 416,\n",
        "    GRID_H = 13,\n",
        "    GRID_W = 13,\n",
        "    BOX = 5,\n",
        "    CLASS = len(LABELS),\n",
        "    CLASS_WEIGHTS = np.ones(len(LABELS), dtype='float32'),\n",
        "    OBJ_THRESHOLD = 0.3,#0.5\n",
        "    NMS_THRESHOLD = 0.3,#0.45\n",
        "    ANCHORS = [0.57273, 0.677385, 1.87446, 2.06253, 3.33843, 5.47434, 7.88282, 3.52778, 9.77052, 9.16828],\n",
        "    NO_OBJECT_SCALE = 1.0,\n",
        "    OBJECT_SCALE = 5.0,\n",
        "    COORD_SCALE = 1.0,\n",
        "    CLASS_SCALE = 1.0,\n",
        "    BATCH_SIZE = 16,\n",
        "    WARM_UP_BATCHES = 0,\n",
        "    TRUE_BOX_BUFFER = 50,\n",
        "    ORIG_SIZE = 1024\n",
        ")\n",
        "\n",
        "generator = BatchGenerator(config,image_fps,image_annotations)\n",
        "\n",
        "[x_batch, b_batch], y_batch = generator[0]\n",
        "\n",
        "print(x_batch.shape)\n",
        "print(y_batch.shape)\n",
        "print(y_batch[0, 8, 8,2])\n",
        "\n",
        "x_cell = 8\n",
        "y_cell = 3\n",
        "grid_size = 416/13.0\n",
        "x_add = x_cell*grid_size\n",
        "y_add = y_cell*grid_size\n",
        "width = y_batch[0, x_cell, y_cell, 2, 3]*grid_size\n",
        "height = y_batch[0, x_cell, y_cell, 2, 4]*grid_size\n",
        "x_center = x_add + y_batch[0, x_cell, y_cell, 2, 1]*grid_size\n",
        "y_center = y_add + y_batch[0, x_cell, y_cell, 2, 2]*grid_size\n",
        "\n",
        "x_corner = x_center - .5*width\n",
        "y_corner = y_center - .5*height\n",
        "\n",
        "# print(f'this is x: {x}')\n",
        "annotation = [dict(x=x_corner,\n",
        "                 y=y_corner,\n",
        "                  width =width,\n",
        "                  height = height,\n",
        "                  Target = 1)]\n",
        "\n",
        "\n",
        "mask, ids = convert_annotation_to_mask(annotation,416)\n",
        "image = x_batch[0, :, :, 0]\n",
        "plt.figure(figsize=(10, 10))\n",
        "plt.subplot(1, 2, 1)\n",
        "plt.imshow(x_batch[0, :, :, 0], cmap='gray')\n",
        "plt.axis('off')\n",
        "\n",
        "plt.subplot(1, 2, 2)\n",
        "masked = np.zeros(image.shape[:2])\n",
        "for i in range(mask.shape[2]):\n",
        "    masked += x_batch[0, :, :, 0] * mask[:, :, i]\n",
        "plt.imshow(masked, cmap='gray')\n",
        "plt.axis('off')\n"
      ],
      "execution_count": 19,
      "outputs": [
        {
          "output_type": "stream",
          "text": [
            "/usr/local/lib/python3.6/dist-packages/skimage/transform/_warps.py:84: UserWarning: The default mode, 'constant', will be changed to 'reflect' in skimage 0.15.\n",
            "  warn(\"The default mode, 'constant', will be changed to 'reflect' in \"\n"
          ],
          "name": "stderr"
        },
        {
          "output_type": "stream",
          "text": [
            "(16, 416, 416, 3)\n",
            "(16, 13, 13, 5, 6)\n",
            "[0. 0. 0. 0. 0. 0.]\n"
          ],
          "name": "stdout"
        },
        {
          "output_type": "execute_result",
          "data": {
            "text/plain": [
              "(-0.5, 415.5, 415.5, -0.5)"
            ]
          },
          "metadata": {
            "tags": []
          },
          "execution_count": 19
        },
        {
          "output_type": "display_data",
          "data": {
            "image/png": "[encoded data removed]",
            "text/plain": [
              "<matplotlib.figure.Figure at 0x7f05173aff60>"
            ]
          },
          "metadata": {
            "tags": []
          }
        }
      ]
    },
    {
      "metadata": {
        "id": "jlKH7EF9rQ2J",
        "colab_type": "text"
      },
      "cell_type": "markdown",
      "source": [
        "### Some setup functions \n",
        "\n",
        "- dicom_fps (**took me forever to figure out fps stands for file paths lol**) is a list of the dicom image path and filenames \n",
        "- image_annotions is a dictionary of the annotations keyed by the filenames\n",
        "- parsing the dataset returns a list of the image filenames and the annotations dictionary"
      ]
    },
    {
      "metadata": {
        "id": "VJygH0sgVHU9",
        "colab_type": "code",
        "colab": {
          "base_uri": "https://localhost:8080/",
          "height": 52
        },
        "outputId": "c17e26c5-a9d0-4c2e-8abf-b6ffd932dcdc"
      },
      "cell_type": "code",
      "source": [
        "image_fps, image_annotations = parse_dataset(train_dicom_dir, anns=raw_annotations)\n",
        "\n",
        "# How many total images are there in training dataset?\n",
        "# 25684 - Thats a lot\n",
        "NUM_TOTAL_TRAIN_IMGS = len(image_fps)\n",
        "print(len(image_fps))\n",
        "print(len(image_annotations))\n",
        "\n",
        "# Original DICOM image size: 1024 x 1024\n",
        "ORIG_SIZE = 1024"
      ],
      "execution_count": 20,
      "outputs": [
        {
          "output_type": "stream",
          "text": [
            "25684\n",
            "25684\n"
          ],
          "name": "stdout"
        }
      ]
    },
    {
      "metadata": {
        "id": "QKxactL1dmBm",
        "colab_type": "code",
        "colab": {}
      },
      "cell_type": "code",
      "source": [
        "ds = pydicom.read_file(image_fps[0]) # read dicom image from filepath \n",
        "image = ds.pixel_array # get image array"
      ],
      "execution_count": 0,
      "outputs": []
    },
    {
      "metadata": {
        "id": "7AvBYQSrdnq0",
        "colab_type": "code",
        "colab": {
          "base_uri": "https://localhost:8080/",
          "height": 625
        },
        "outputId": "2bfa5b59-85aa-46ca-f845-d8a9ddb1b801"
      },
      "cell_type": "code",
      "source": [
        "# show dicom fields \n",
        "ds"
      ],
      "execution_count": 22,
      "outputs": [
        {
          "output_type": "execute_result",
          "data": {
            "text/plain": [
              "(0008, 0005) Specific Character Set              CS: 'ISO_IR 100'\n",
              "(0008, 0016) SOP Class UID                       UI: Secondary Capture Image Storage\n",
              "(0008, 0018) SOP Instance UID                    UI: 1.2.276.0.7230010.3.1.4.8323329.5558.1517874316.963665\n",
              "(0008, 0020) Study Date                          DA: '19010101'\n",
              "(0008, 0030) Study Time                          TM: '000000.00'\n",
              "(0008, 0050) Accession Number                    SH: ''\n",
              "(0008, 0060) Modality                            CS: 'CR'\n",
              "(0008, 0064) Conversion Type                     CS: 'WSD'\n",
              "(0008, 0090) Referring Physician's Name          PN: ''\n",
              "(0008, 103e) Series Description                  LO: 'view: AP'\n",
              "(0010, 0010) Patient's Name                      PN: 'e828055c-3f86-4771-b4dc-087f04b91b5f'\n",
              "(0010, 0020) Patient ID                          LO: 'e828055c-3f86-4771-b4dc-087f04b91b5f'\n",
              "(0010, 0030) Patient's Birth Date                DA: ''\n",
              "(0010, 0040) Patient's Sex                       CS: 'M'\n",
              "(0010, 1010) Patient's Age                       AS: '28'\n",
              "(0018, 0015) Body Part Examined                  CS: 'CHEST'\n",
              "(0018, 5101) View Position                       CS: 'AP'\n",
              "(0020, 000d) Study Instance UID                  UI: 1.2.276.0.7230010.3.1.2.8323329.5558.1517874316.963664\n",
              "(0020, 000e) Series Instance UID                 UI: 1.2.276.0.7230010.3.1.3.8323329.5558.1517874316.963663\n",
              "(0020, 0010) Study ID                            SH: ''\n",
              "(0020, 0011) Series Number                       IS: '1'\n",
              "(0020, 0013) Instance Number                     IS: '1'\n",
              "(0020, 0020) Patient Orientation                 CS: ''\n",
              "(0028, 0002) Samples per Pixel                   US: 1\n",
              "(0028, 0004) Photometric Interpretation          CS: 'MONOCHROME2'\n",
              "(0028, 0010) Rows                                US: 1024\n",
              "(0028, 0011) Columns                             US: 1024\n",
              "(0028, 0030) Pixel Spacing                       DS: ['0.168', '0.168']\n",
              "(0028, 0100) Bits Allocated                      US: 8\n",
              "(0028, 0101) Bits Stored                         US: 8\n",
              "(0028, 0102) High Bit                            US: 7\n",
              "(0028, 0103) Pixel Representation                US: 0\n",
              "(0028, 2110) Lossy Image Compression             CS: '01'\n",
              "(0028, 2114) Lossy Image Compression Method      CS: 'ISO_10918_1'\n",
              "(7fe0, 0010) Pixel Data                          OB: Array of 112596 bytes"
            ]
          },
          "metadata": {
            "tags": []
          },
          "execution_count": 22
        }
      ]
    },
    {
      "metadata": {
        "id": "2WAVEixPwpaE",
        "colab_type": "code",
        "colab": {}
      },
      "cell_type": "code",
      "source": [
        "\n",
        " \n",
        "      \n",
        "\n",
        "  "
      ],
      "execution_count": 0,
      "outputs": []
    },
    {
      "metadata": {
        "id": "ysVmUCmOxwHT",
        "colab_type": "code",
        "colab": {
          "base_uri": "https://localhost:8080/",
          "height": 340
        },
        "outputId": "de2d732d-cc89-412f-ef3b-1dd148a2e97e"
      },
      "cell_type": "code",
      "source": [
        "# Get a random image and annotation\n",
        "random_patient_index = np.random.randint(low=0, high=NUM_TOTAL_TRAIN_IMGS)\n",
        "image, annotation = get_image_and_annotation(0, image_annotations)\n",
        "\n",
        "\n",
        "# Show annotation\n",
        "print(len(annotation))\n",
        "# out = convert_annotation_to_ouput_shape(annotation)\n",
        "mask, ids = convert_annotation_to_mask(annotation)\n",
        "\n",
        "# Print patient's raw image\n",
        "plt.figure(figsize=(10, 10))\n",
        "plt.subplot(1, 2, 1)\n",
        "plt.imshow(image[:, :, 0], cmap='gray')\n",
        "plt.axis('off')\n",
        "\n",
        "# Print masked image\n",
        "plt.subplot(1, 2, 2)\n",
        "masked = np.zeros(image.shape[:2])\n",
        "for i in range(mask.shape[2]):\n",
        "    masked += image[:, :, 0] * mask[:, :, i]\n",
        "plt.imshow(masked, cmap='gray')\n",
        "plt.axis('off')"
      ],
      "execution_count": 24,
      "outputs": [
        {
          "output_type": "stream",
          "text": [
            "1\n"
          ],
          "name": "stdout"
        },
        {
          "output_type": "execute_result",
          "data": {
            "text/plain": [
              "(-0.5, 1023.5, 1023.5, -0.5)"
            ]
          },
          "metadata": {
            "tags": []
          },
          "execution_count": 24
        },
        {
          "output_type": "display_data",
          "data": {
            "image/png": "[encoded data removed]",
            "text/plain": [
              "<matplotlib.figure.Figure at 0x7f05121bdf28>"
            ]
          },
          "metadata": {
            "tags": []
          }
        }
      ]
    },
    {
      "metadata": {
        "id": "4JCE-q5adp_d",
        "colab_type": "code",
        "colab": {}
      },
      "cell_type": "code",
      "source": [
        "# Original DICOM image size: 1024 x 1024\n",
        "ORIG_SIZE = 1024"
      ],
      "execution_count": 0,
      "outputs": []
    },
    {
      "metadata": {
        "id": "53pFbRjtVUgH",
        "colab_type": "code",
        "colab": {}
      },
      "cell_type": "code",
      "source": [
        ""
      ],
      "execution_count": 0,
      "outputs": []
    },
    {
      "metadata": {
        "id": "mkv5wZyJd06G",
        "colab_type": "text"
      },
      "cell_type": "markdown",
      "source": [
        "## Split the data into training and validation datasets \n",
        "**Note: We have only used only a portion of the images for demonstration purposes. See comments below.**\n",
        " \n",
        " - To use all the images do: image_fps_list = list(image_fps)\n",
        " - Or change the number of images from 100 to a custom number"
      ]
    },
    {
      "metadata": {
        "id": "5IJN4q51d3aN",
        "colab_type": "code",
        "colab": {
          "base_uri": "https://localhost:8080/",
          "height": 52
        },
        "outputId": "333aafcb-de71-4a91-f95d-6c7aad17beb3"
      },
      "cell_type": "code",
      "source": [
        "######################################################################\n",
        "# Modify this line to use more or fewer images for training/validation. \n",
        "# number_of_images_to_use = NUM_TOTAL_TRAIN_IMGS # To use all of them\n",
        "number_of_images_to_use = 1 # To use some of them\n",
        "image_fps_list = list(image_fps[:number_of_images_to_use]) \n",
        "#####################################################################\n",
        "\n",
        "# split dataset into training vs. validation dataset \n",
        "# split ratio is set to 0.9 vs. 0.1 (train vs. validation, respectively)\n",
        "sorted(image_fps_list)\n",
        "random.seed(42)\n",
        "random.shuffle(image_fps_list)\n",
        "\n",
        "validation_split = 0.1\n",
        "split_index = int((1 - validation_split) * len(image_fps_list))\n",
        "\n",
        "image_fps_train = image_fps_list[:split_index]\n",
        "image_fps_val = image_fps_list[split_index:]\n",
        "image_annotations_train = {k:v for k,v in image_annotations.items() if k in image_fps_train}\n",
        "image_annotations_val = {k:v for k,v in image_annotations.items() if k in image_fps_val}\n",
        "\n",
        "print(len(image_fps_train))\n",
        "print(len(image_annotations_train))"
      ],
      "execution_count": 26,
      "outputs": [
        {
          "output_type": "stream",
          "text": [
            "0\n",
            "0\n"
          ],
          "name": "stdout"
        }
      ]
    },
    {
      "metadata": {
        "id": "LB4pj0ZKXHX-",
        "colab_type": "text"
      },
      "cell_type": "markdown",
      "source": [
        "# YOLO Starts here"
      ]
    },
    {
      "metadata": {
        "id": "Ed3c5NoyVWMG",
        "colab_type": "code",
        "colab": {
          "base_uri": "https://localhost:8080/",
          "height": 86
        },
        "outputId": "cdcccf56-03f5-410c-c1ad-32ff899da8df"
      },
      "cell_type": "code",
      "source": [
        "# TODO somehow need to download the pretrained YOLO weights\n",
        "# idk which one is right\n",
        "!wget https://pjreddie.com/media/files/yolo.weights \n",
        "!wget https://pjreddie.com/media/files/yolov2.weights"
      ],
      "execution_count": 27,
      "outputs": [
        {
          "output_type": "stream",
          "text": [
            "\n",
            "Redirecting output to ‘wget-log’.\n",
            "\n",
            "Redirecting output to ‘wget-log.1’.\n"
          ],
          "name": "stdout"
        }
      ]
    },
    {
      "metadata": {
        "id": "444hWUrXWpRa",
        "colab_type": "code",
        "colab": {}
      },
      "cell_type": "code",
      "source": [
        "from keras.models import Sequential, Model\n",
        "from keras.layers import Reshape, Activation, Conv2D, Input, MaxPooling2D, BatchNormalization, Flatten, Dense, Lambda\n",
        "from keras.layers.advanced_activations import LeakyReLU\n",
        "from keras.callbacks import EarlyStopping, ModelCheckpoint, TensorBoard\n",
        "from keras.optimizers import SGD, Adam, RMSprop\n",
        "from keras.layers.merge import concatenate\n",
        "import keras.backend as K"
      ],
      "execution_count": 0,
      "outputs": []
    },
    {
      "metadata": {
        "id": "6ZQSu9LnXQYH",
        "colab_type": "code",
        "colab": {}
      },
      "cell_type": "code",
      "source": [
        "LABELS = ['PN'] # for pneumonia\n",
        "\n",
        "# TODO idk what all this stuff means or does\n",
        "# IMAGE_H, IMAGE_W = 416, 416\n",
        "# GRID_H,  GRID_W  = 13 , 13\n",
        "# BOX              = 1 # this is the number of anchors, I am just setting it to 1 for rn \n",
        "# CLASS            = len(LABELS)\n",
        "# CLASS_WEIGHTS    = np.ones(CLASS, dtype='float32')\n",
        "# OBJ_THRESHOLD    = 0.3#0.5\n",
        "# NMS_THRESHOLD    = 0.3#0.45\n",
        "# ANCHORS          = [1.]\n",
        "\n",
        "# NO_OBJECT_SCALE  = 1.0\n",
        "# OBJECT_SCALE     = 5.0\n",
        "# COORD_SCALE      = 1.0\n",
        "# CLASS_SCALE      = 1.0\n",
        "\n",
        "# BATCH_SIZE       = 16\n",
        "# WARM_UP_BATCHES  = 0\n",
        "# TRUE_BOX_BUFFER  = 50\n",
        "\n",
        "config = dict(\n",
        "    IMAGE_H = 416, \n",
        "    IMAGE_W = 416,\n",
        "    GRID_H = 13,\n",
        "    GRID_W = 13,\n",
        "    BOX = 5,\n",
        "    CLASS = len(LABELS),\n",
        "    CLASS_WEIGHTS = np.ones(len(LABELS), dtype='float32'),\n",
        "    OBJ_THRESHOLD = 0.3,#0.5\n",
        "    NMS_THRESHOLD = 0.3,#0.45\n",
        "    ANCHORS = [0.57273, 0.677385, 1.87446, 2.06253, 3.33843, 5.47434, 7.88282, 3.52778, 9.77052, 9.16828],\n",
        "    NO_OBJECT_SCALE = 1.0,\n",
        "    OBJECT_SCALE = 5.0,\n",
        "    COORD_SCALE = 1.0,\n",
        "    CLASS_SCALE = 1.0,\n",
        "    BATCH_SIZE = 2,\n",
        "    WARM_UP_BATCHES = 0,\n",
        "    TRUE_BOX_BUFFER = 50,\n",
        "    ORIG_SIZE = 1024\n",
        ")\n",
        "\n",
        "generator = BatchGenerator(config,image_fps_train,image_annotations_train)"
      ],
      "execution_count": 0,
      "outputs": []
    },
    {
      "metadata": {
        "id": "ydY_Pv-iXZMh",
        "colab_type": "text"
      },
      "cell_type": "markdown",
      "source": [
        "### Construct the Network"
      ]
    },
    {
      "metadata": {
        "id": "vK1MfmPLtdIV",
        "colab_type": "code",
        "colab": {}
      },
      "cell_type": "code",
      "source": [
        "# We still refer to these a lot of places, so I'm gonna put them back here for now.\n",
        "# We need to clean up a lot though haha\n",
        "IMAGE_H = 416\n",
        "IMAGE_W = 416\n",
        "GRID_H = 13\n",
        "GRID_W = 13\n",
        "BOX = 5\n",
        "CLASS = len(LABELS)\n",
        "CLASS_WEIGHTS = np.ones(len(LABELS), dtype='float32')\n",
        "OBJ_THRESHOLD = 0.3#0.5\n",
        "NMS_THRESHOLD = 0.3#0.45\n",
        "ANCHORS = [0.57273, 0.677385, 1.87446, 2.06253, 3.33843, 5.47434, 7.88282, 3.52778, 9.77052, 9.16828]\n",
        "NO_OBJECT_SCALE = 1.0\n",
        "OBJECT_SCALE = 5.0\n",
        "COORD_SCALE = 1.0\n",
        "CLASS_SCALE = 1.0\n",
        "BATCH_SIZE = 2\n",
        "WARM_UP_BATCHES = 0\n",
        "TRUE_BOX_BUFFER = 50\n",
        "ORIG_SIZE = 1024"
      ],
      "execution_count": 0,
      "outputs": []
    },
    {
      "metadata": {
        "id": "UrIUPzL9Xsp5",
        "colab_type": "code",
        "colab": {}
      },
      "cell_type": "code",
      "source": [
        "# the function to implement the orgnization layer (thanks to github.com/allanzelener/YAD2K)\n",
        "def space_to_depth_x2(x):\n",
        "    return tf.space_to_depth(x, block_size=2)"
      ],
      "execution_count": 0,
      "outputs": []
    },
    {
      "metadata": {
        "id": "TyAFUZATXvDn",
        "colab_type": "code",
        "colab": {}
      },
      "cell_type": "code",
      "source": [
        "input_image = Input(shape=(IMAGE_H, IMAGE_W, 3))\n",
        "true_boxes  = Input(shape=(1, 1, 1, TRUE_BOX_BUFFER , 4))\n",
        "\n",
        "# Layer 1\n",
        "x = Conv2D(32, (3,3), strides=(1,1), padding='same', name='conv_1', use_bias=False)(input_image)\n",
        "x = BatchNormalization(name='norm_1')(x)\n",
        "x = LeakyReLU(alpha=0.1)(x)\n",
        "x = MaxPooling2D(pool_size=(2, 2))(x)\n",
        "\n",
        "# Layer 2\n",
        "x = Conv2D(64, (3,3), strides=(1,1), padding='same', name='conv_2', use_bias=False)(x)\n",
        "x = BatchNormalization(name='norm_2')(x)\n",
        "x = LeakyReLU(alpha=0.1)(x)\n",
        "x = MaxPooling2D(pool_size=(2, 2))(x)\n",
        "\n",
        "# Layer 3\n",
        "x = Conv2D(128, (3,3), strides=(1,1), padding='same', name='conv_3', use_bias=False)(x)\n",
        "x = BatchNormalization(name='norm_3')(x)\n",
        "x = LeakyReLU(alpha=0.1)(x)\n",
        "\n",
        "# Layer 4\n",
        "x = Conv2D(64, (1,1), strides=(1,1), padding='same', name='conv_4', use_bias=False)(x)\n",
        "x = BatchNormalization(name='norm_4')(x)\n",
        "x = LeakyReLU(alpha=0.1)(x)\n",
        "\n",
        "# Layer 5\n",
        "x = Conv2D(128, (3,3), strides=(1,1), padding='same', name='conv_5', use_bias=False)(x)\n",
        "x = BatchNormalization(name='norm_5')(x)\n",
        "x = LeakyReLU(alpha=0.1)(x)\n",
        "x = MaxPooling2D(pool_size=(2, 2))(x)\n",
        "\n",
        "# Layer 6\n",
        "x = Conv2D(256, (3,3), strides=(1,1), padding='same', name='conv_6', use_bias=False)(x)\n",
        "x = BatchNormalization(name='norm_6')(x)\n",
        "x = LeakyReLU(alpha=0.1)(x)\n",
        "\n",
        "# Layer 7\n",
        "x = Conv2D(128, (1,1), strides=(1,1), padding='same', name='conv_7', use_bias=False)(x)\n",
        "x = BatchNormalization(name='norm_7')(x)\n",
        "x = LeakyReLU(alpha=0.1)(x)\n",
        "\n",
        "# Layer 8\n",
        "x = Conv2D(256, (3,3), strides=(1,1), padding='same', name='conv_8', use_bias=False)(x)\n",
        "x = BatchNormalization(name='norm_8')(x)\n",
        "x = LeakyReLU(alpha=0.1)(x)\n",
        "x = MaxPooling2D(pool_size=(2, 2))(x)\n",
        "\n",
        "# Layer 9\n",
        "x = Conv2D(512, (3,3), strides=(1,1), padding='same', name='conv_9', use_bias=False)(x)\n",
        "x = BatchNormalization(name='norm_9')(x)\n",
        "x = LeakyReLU(alpha=0.1)(x)\n",
        "\n",
        "# Layer 10\n",
        "x = Conv2D(256, (1,1), strides=(1,1), padding='same', name='conv_10', use_bias=False)(x)\n",
        "x = BatchNormalization(name='norm_10')(x)\n",
        "x = LeakyReLU(alpha=0.1)(x)\n",
        "\n",
        "# Layer 11\n",
        "x = Conv2D(512, (3,3), strides=(1,1), padding='same', name='conv_11', use_bias=False)(x)\n",
        "x = BatchNormalization(name='norm_11')(x)\n",
        "x = LeakyReLU(alpha=0.1)(x)\n",
        "\n",
        "# Layer 12\n",
        "x = Conv2D(256, (1,1), strides=(1,1), padding='same', name='conv_12', use_bias=False)(x)\n",
        "x = BatchNormalization(name='norm_12')(x)\n",
        "x = LeakyReLU(alpha=0.1)(x)\n",
        "\n",
        "# Layer 13\n",
        "x = Conv2D(512, (3,3), strides=(1,1), padding='same', name='conv_13', use_bias=False)(x)\n",
        "x = BatchNormalization(name='norm_13')(x)\n",
        "x = LeakyReLU(alpha=0.1)(x)\n",
        "\n",
        "skip_connection = x\n",
        "\n",
        "x = MaxPooling2D(pool_size=(2, 2))(x)\n",
        "\n",
        "# Layer 14\n",
        "x = Conv2D(1024, (3,3), strides=(1,1), padding='same', name='conv_14', use_bias=False)(x)\n",
        "x = BatchNormalization(name='norm_14')(x)\n",
        "x = LeakyReLU(alpha=0.1)(x)\n",
        "\n",
        "# Layer 15\n",
        "x = Conv2D(512, (1,1), strides=(1,1), padding='same', name='conv_15', use_bias=False)(x)\n",
        "x = BatchNormalization(name='norm_15')(x)\n",
        "x = LeakyReLU(alpha=0.1)(x)\n",
        "\n",
        "# Layer 16\n",
        "x = Conv2D(1024, (3,3), strides=(1,1), padding='same', name='conv_16', use_bias=False)(x)\n",
        "x = BatchNormalization(name='norm_16')(x)\n",
        "x = LeakyReLU(alpha=0.1)(x)\n",
        "\n",
        "# Layer 17\n",
        "x = Conv2D(512, (1,1), strides=(1,1), padding='same', name='conv_17', use_bias=False)(x)\n",
        "x = BatchNormalization(name='norm_17')(x)\n",
        "x = LeakyReLU(alpha=0.1)(x)\n",
        "\n",
        "# Layer 18\n",
        "x = Conv2D(1024, (3,3), strides=(1,1), padding='same', name='conv_18', use_bias=False)(x)\n",
        "x = BatchNormalization(name='norm_18')(x)\n",
        "x = LeakyReLU(alpha=0.1)(x)\n",
        "\n",
        "# Layer 19\n",
        "x = Conv2D(1024, (3,3), strides=(1,1), padding='same', name='conv_19', use_bias=False)(x)\n",
        "x = BatchNormalization(name='norm_19')(x)\n",
        "x = LeakyReLU(alpha=0.1)(x)\n",
        "\n",
        "# Layer 20\n",
        "x = Conv2D(1024, (3,3), strides=(1,1), padding='same', name='conv_20', use_bias=False)(x)\n",
        "x = BatchNormalization(name='norm_20')(x)\n",
        "x = LeakyReLU(alpha=0.1)(x)\n",
        "\n",
        "# Layer 21\n",
        "skip_connection = Conv2D(64, (1,1), strides=(1,1), padding='same', name='conv_21', use_bias=False)(skip_connection)\n",
        "skip_connection = BatchNormalization(name='norm_21')(skip_connection)\n",
        "skip_connection = LeakyReLU(alpha=0.1)(skip_connection)\n",
        "skip_connection = Lambda(space_to_depth_x2)(skip_connection)\n",
        "\n",
        "x = concatenate([skip_connection, x])\n",
        "\n",
        "# Layer 22\n",
        "x = Conv2D(1024, (3,3), strides=(1,1), padding='same', name='conv_22', use_bias=False)(x)\n",
        "x = BatchNormalization(name='norm_22')(x)\n",
        "x = LeakyReLU(alpha=0.1)(x)\n",
        "\n",
        "# Layer 23\n",
        "x = Conv2D(BOX * (4 + 1 + CLASS), (1,1), strides=(1,1), padding='same', name='conv_23')(x)\n",
        "output = Reshape((GRID_H, GRID_W, BOX, 4 + 1 + CLASS))(x)\n",
        "\n",
        "# small hack to allow true_boxes to be registered when Keras build the model \n",
        "# for more information: https://github.com/fchollet/keras/issues/2790\n",
        "#output = Lambda(lambda args: args[0])([output, true_boxes])\n",
        "\n",
        "output = Lambda(lambda args: args[0])([output, true_boxes])\n",
        "\n",
        "model = Model([input_image, true_boxes], output)"
      ],
      "execution_count": 0,
      "outputs": []
    },
    {
      "metadata": {
        "id": "O-omCYr4X6yy",
        "colab_type": "code",
        "colab": {}
      },
      "cell_type": "code",
      "source": [
        "#model.summary()"
      ],
      "execution_count": 0,
      "outputs": []
    },
    {
      "metadata": {
        "id": "_4pFPPe3bH3-",
        "colab_type": "text"
      },
      "cell_type": "markdown",
      "source": [
        "### Custom Loss Function\n",
        "\n",
        "From Paper:\n",
        "\n",
        "\n",
        "\n",
        "![alt text](https://i.stack.imgur.com/bQAdd.jpg)"
      ]
    },
    {
      "metadata": {
        "id": "-nBeiYXwb052",
        "colab_type": "code",
        "colab": {}
      },
      "cell_type": "code",
      "source": [
        "def custom_loss(y_true, y_pred):\n",
        "    mask_shape = tf.shape(y_true)[:4]\n",
        "    \n",
        "    cell_x = tf.to_float(tf.reshape(tf.tile(tf.range(GRID_W), [GRID_H]), (1, GRID_H, GRID_W, 1, 1)))\n",
        "    cell_y = tf.transpose(cell_x, (0,2,1,3,4))\n",
        "\n",
        "    cell_grid = tf.tile(tf.concat([cell_x,cell_y], -1), [BATCH_SIZE, 1, 1, 5, 1])\n",
        "    \n",
        "    coord_mask = tf.zeros(mask_shape)\n",
        "    conf_mask  = tf.zeros(mask_shape)\n",
        "    class_mask = tf.zeros(mask_shape)\n",
        "    \n",
        "    seen = tf.Variable(0.)\n",
        "    total_recall = tf.Variable(0.)\n",
        "    \n",
        "    \"\"\"\n",
        "    Adjust prediction\n",
        "    \"\"\"\n",
        "    ### adjust x and y      \n",
        "    pred_box_xy = tf.sigmoid(y_pred[..., :2]) + cell_grid\n",
        "    \n",
        "    ### adjust w and h how it was before\n",
        "    #pred_box_wh = tf.exp(y_pred[..., 2:4]) * np.reshape(ANCHORS, [1,1,1,BOX,2])\n",
        "    pred_box_wh = tf.exp(y_pred[..., 2:4])\n",
        "    \n",
        "    ### adjust confidence\n",
        "    pred_box_conf = tf.sigmoid(y_pred[..., 4])\n",
        "    \n",
        "    ### adjust class probabilities\n",
        "    pred_box_class = y_pred[..., 5:]\n",
        "    \n",
        "    \"\"\"\n",
        "    Adjust ground truth\n",
        "    \"\"\"\n",
        "    ### adjust x and y\n",
        "    true_box_xy = y_true[..., 0:2] # relative position to the containing cell\n",
        "    \n",
        "    ### adjust w and h\n",
        "    true_box_wh = y_true[..., 2:4] # number of cells accross, horizontally and vertically\n",
        "    \n",
        "    ### adjust confidence\n",
        "    true_wh_half = true_box_wh / 2.\n",
        "    true_mins    = true_box_xy - true_wh_half\n",
        "    true_maxes   = true_box_xy + true_wh_half\n",
        "    \n",
        "    pred_wh_half = pred_box_wh / 2.\n",
        "    pred_mins    = pred_box_xy - pred_wh_half\n",
        "    pred_maxes   = pred_box_xy + pred_wh_half       \n",
        "    \n",
        "    intersect_mins  = tf.maximum(pred_mins,  true_mins)\n",
        "    intersect_maxes = tf.minimum(pred_maxes, true_maxes)\n",
        "    intersect_wh    = tf.maximum(intersect_maxes - intersect_mins, 0.)\n",
        "    intersect_areas = intersect_wh[..., 0] * intersect_wh[..., 1]\n",
        "    \n",
        "    true_areas = true_box_wh[..., 0] * true_box_wh[..., 1]\n",
        "    pred_areas = pred_box_wh[..., 0] * pred_box_wh[..., 1]\n",
        "\n",
        "    union_areas = pred_areas + true_areas - intersect_areas\n",
        "    iou_scores  = tf.truediv(intersect_areas, union_areas)\n",
        "    \n",
        "    true_box_conf = iou_scores * y_true[..., 4]\n",
        "    \n",
        "    ### adjust class probabilities\n",
        "    true_box_class = tf.argmax(y_true[..., 5:], -1)\n",
        "    \n",
        "    \"\"\"\n",
        "    Determine the masks\n",
        "    \"\"\"\n",
        "    ### coordinate mask: simply the position of the ground truth boxes (the predictors)\n",
        "    coord_mask = tf.expand_dims(y_true[..., 4], axis=-1) * COORD_SCALE\n",
        "    \n",
        "    ### confidence mask: penelize predictors + penalize boxes with low IOU\n",
        "    # penalize the confidence of the boxes, which have IOU with some ground truth box < 0.6\n",
        "    true_xy = true_boxes[..., 0:2]\n",
        "    true_wh = true_boxes[..., 2:4]\n",
        "    \n",
        "    true_wh_half = true_wh / 2.\n",
        "    true_mins    = true_xy - true_wh_half\n",
        "    true_maxes   = true_xy + true_wh_half\n",
        "    \n",
        "    pred_xy = tf.expand_dims(pred_box_xy, 4)\n",
        "    pred_wh = tf.expand_dims(pred_box_wh, 4)\n",
        "    \n",
        "    pred_wh_half = pred_wh / 2.\n",
        "    pred_mins    = pred_xy - pred_wh_half\n",
        "    pred_maxes   = pred_xy + pred_wh_half    \n",
        "    \n",
        "    intersect_mins  = tf.maximum(pred_mins,  true_mins)\n",
        "    intersect_maxes = tf.minimum(pred_maxes, true_maxes)\n",
        "    intersect_wh    = tf.maximum(intersect_maxes - intersect_mins, 0.)\n",
        "    intersect_areas = intersect_wh[..., 0] * intersect_wh[..., 1]\n",
        "    \n",
        "    true_areas = true_wh[..., 0] * true_wh[..., 1]\n",
        "    pred_areas = pred_wh[..., 0] * pred_wh[..., 1]\n",
        "\n",
        "    union_areas = pred_areas + true_areas - intersect_areas\n",
        "    iou_scores  = tf.truediv(intersect_areas, union_areas)\n",
        "\n",
        "    best_ious = tf.reduce_max(iou_scores, axis=4)\n",
        "    conf_mask = conf_mask + tf.to_float(best_ious < 0.6) * (1 - y_true[..., 4]) * NO_OBJECT_SCALE\n",
        "    \n",
        "    # penalize the confidence of the boxes, which are reponsible for corresponding ground truth box\n",
        "    conf_mask = conf_mask + y_true[..., 4] * OBJECT_SCALE\n",
        "    \n",
        "    ### class mask: simply the position of the ground truth boxes (the predictors)\n",
        "    class_mask = y_true[..., 4] * tf.gather(CLASS_WEIGHTS, true_box_class) * CLASS_SCALE       \n",
        "    \n",
        "    \"\"\"\n",
        "    Warm-up training\n",
        "    \"\"\"\n",
        "    no_boxes_mask = tf.to_float(coord_mask < COORD_SCALE/2.)\n",
        "    seen = tf.assign_add(seen, 1.)\n",
        "    \n",
        "    #true_box_xy, true_box_wh, coord_mask = tf.cond(tf.less(seen, WARM_UP_BATCHES), \n",
        "    #                      lambda: [true_box_xy + (0.5 + cell_grid) * no_boxes_mask, \n",
        "    #                               true_box_wh + tf.ones_like(true_box_wh) * np.reshape(ANCHORS, [1,1,1,BOX,2]) * no_boxes_mask, \n",
        "    #                               tf.ones_like(coord_mask)],\n",
        "    #                      lambda: [true_box_xy, \n",
        "    #                               true_box_wh,\n",
        "    #                               coord_mask])\n",
        "    \n",
        "    true_box_xy, true_box_wh, coord_mask = tf.cond(tf.less(seen, WARM_UP_BATCHES), \n",
        "                          lambda: [true_box_xy + (0.5 + cell_grid) * no_boxes_mask, \n",
        "                                   true_box_wh + tf.ones_like(true_box_wh) * no_boxes_mask, \n",
        "                                   tf.ones_like(coord_mask)],\n",
        "                          lambda: [true_box_xy, \n",
        "                                   true_box_wh,\n",
        "                                   coord_mask])\n",
        "    \n",
        "    \"\"\"\n",
        "    Finalize the loss\n",
        "    \"\"\"\n",
        "    nb_coord_box = tf.reduce_sum(tf.to_float(coord_mask > 0.0))\n",
        "    nb_conf_box  = tf.reduce_sum(tf.to_float(conf_mask  > 0.0))\n",
        "    nb_class_box = tf.reduce_sum(tf.to_float(class_mask > 0.0))\n",
        "    \n",
        "    loss_xy    = tf.reduce_sum(tf.square(true_box_xy-pred_box_xy)     * coord_mask) / (nb_coord_box + 1e-6) / 2.\n",
        "    loss_wh    = tf.reduce_sum(tf.square(true_box_wh-pred_box_wh)     * coord_mask) / (nb_coord_box + 1e-6) / 2.\n",
        "    loss_conf  = tf.reduce_sum(tf.square(true_box_conf-pred_box_conf) * conf_mask)  / (nb_conf_box  + 1e-6) / 2.\n",
        "    loss_class = tf.nn.sparse_softmax_cross_entropy_with_logits(labels=true_box_class, logits=pred_box_class)\n",
        "    loss_class = tf.reduce_sum(loss_class * class_mask) / (nb_class_box + 1e-6)\n",
        "    \n",
        "    loss = loss_xy + loss_wh + loss_conf + loss_class\n",
        "    \n",
        "    nb_true_box = tf.reduce_sum(y_true[..., 4])\n",
        "    nb_pred_box = tf.reduce_sum(tf.to_float(true_box_conf > 0.5) * tf.to_float(pred_box_conf > 0.3))\n",
        "\n",
        "    \"\"\"\n",
        "    Debugging code\n",
        "    \"\"\"    \n",
        "    current_recall = nb_pred_box/(nb_true_box + 1e-6)\n",
        "    total_recall = tf.assign_add(total_recall, current_recall) \n",
        "\n",
        "    loss = tf.Print(loss, [tf.zeros((1))], message='Dummy Line \\t', summarize=1000)\n",
        "    loss = tf.Print(loss, [loss_xy], message='Loss XY \\t', summarize=1000)\n",
        "    loss = tf.Print(loss, [loss_wh], message='Loss WH \\t', summarize=1000)\n",
        "    loss = tf.Print(loss, [loss_conf], message='Loss Conf \\t', summarize=1000)\n",
        "    loss = tf.Print(loss, [loss_class], message='Loss Class \\t', summarize=1000)\n",
        "    loss = tf.Print(loss, [loss], message='Total Loss \\t', summarize=1000)\n",
        "    loss = tf.Print(loss, [current_recall], message='Current Recall \\t', summarize=1000)\n",
        "    loss = tf.Print(loss, [total_recall/seen], message='Average Recall \\t', summarize=1000)\n",
        "    \n",
        "    return loss"
      ],
      "execution_count": 0,
      "outputs": []
    },
    {
      "metadata": {
        "id": "OozsQFkaLTn6",
        "colab_type": "text"
      },
      "cell_type": "markdown",
      "source": [
        "# Training"
      ]
    },
    {
      "metadata": {
        "id": "DbBuxgTTLbcL",
        "colab_type": "text"
      },
      "cell_type": "markdown",
      "source": [
        "##Train model\n",
        "\n",
        "### Why does this take forever???\n",
        "- i dont think its only using the one image"
      ]
    },
    {
      "metadata": {
        "id": "Cx9mBBh0LpXf",
        "colab_type": "code",
        "colab": {
          "base_uri": "https://localhost:8080/",
          "height": 847
        },
        "outputId": "3c410e1e-cdf1-40fb-cb14-9c30a3eb9bdf"
      },
      "cell_type": "code",
      "source": [
        "optimizer = Adam(lr=0.5e-4, beta_1=0.9, beta_2=0.999, epsilon=1e-08, decay=0.0)\n",
        "#optimizer = SGD(lr=1e-4, decay=0.0005, momentum=0.9)\n",
        "#optimizer = RMSprop(lr=1e-4, rho=0.9, epsilon=1e-08, decay=0.0)\n",
        "\n",
        "model.compile(loss=custom_loss, optimizer=optimizer)\n",
        "\n",
        "model.fit_generator(generator, steps_per_epoch=1, epochs=100)"
      ],
      "execution_count": 39,
      "outputs": [
        {
          "output_type": "stream",
          "text": [
            "Epoch 1/100\n"
          ],
          "name": "stdout"
        },
        {
          "output_type": "error",
          "ename": "KeyboardInterrupt",
          "evalue": "ignored",
          "traceback": [
            "\u001b[0;31m---------------------------------------------------------------------------\u001b[0m",
            "\u001b[0;31mKeyboardInterrupt\u001b[0m                         Traceback (most recent call last)",
            "\u001b[0;32m<ipython-input-39-52c8f0192905>\u001b[0m in \u001b[0;36m<module>\u001b[0;34m()\u001b[0m\n\u001b[1;32m      5\u001b[0m \u001b[0mmodel\u001b[0m\u001b[0;34m.\u001b[0m\u001b[0mcompile\u001b[0m\u001b[0;34m(\u001b[0m\u001b[0mloss\u001b[0m\u001b[0;34m=\u001b[0m\u001b[0mcustom_loss\u001b[0m\u001b[0;34m,\u001b[0m \u001b[0moptimizer\u001b[0m\u001b[0;34m=\u001b[0m\u001b[0moptimizer\u001b[0m\u001b[0;34m)\u001b[0m\u001b[0;34m\u001b[0m\u001b[0m\n\u001b[1;32m      6\u001b[0m \u001b[0;34m\u001b[0m\u001b[0m\n\u001b[0;32m----> 7\u001b[0;31m \u001b[0mmodel\u001b[0m\u001b[0;34m.\u001b[0m\u001b[0mfit_generator\u001b[0m\u001b[0;34m(\u001b[0m\u001b[0mgenerator\u001b[0m\u001b[0;34m,\u001b[0m \u001b[0msteps_per_epoch\u001b[0m\u001b[0;34m=\u001b[0m\u001b[0;36m1\u001b[0m\u001b[0;34m,\u001b[0m \u001b[0mepochs\u001b[0m\u001b[0;34m=\u001b[0m\u001b[0;36m100\u001b[0m\u001b[0;34m)\u001b[0m\u001b[0;34m\u001b[0m\u001b[0m\n\u001b[0m",
            "\u001b[0;32m/usr/local/lib/python3.6/dist-packages/keras/legacy/interfaces.py\u001b[0m in \u001b[0;36mwrapper\u001b[0;34m(*args, **kwargs)\u001b[0m\n\u001b[1;32m     89\u001b[0m                 warnings.warn('Update your `' + object_name +\n\u001b[1;32m     90\u001b[0m                               '` call to the Keras 2 API: ' + signature, stacklevel=2)\n\u001b[0;32m---> 91\u001b[0;31m             \u001b[0;32mreturn\u001b[0m \u001b[0mfunc\u001b[0m\u001b[0;34m(\u001b[0m\u001b[0;34m*\u001b[0m\u001b[0margs\u001b[0m\u001b[0;34m,\u001b[0m \u001b[0;34m**\u001b[0m\u001b[0mkwargs\u001b[0m\u001b[0;34m)\u001b[0m\u001b[0;34m\u001b[0m\u001b[0m\n\u001b[0m\u001b[1;32m     92\u001b[0m         \u001b[0mwrapper\u001b[0m\u001b[0;34m.\u001b[0m\u001b[0m_original_function\u001b[0m \u001b[0;34m=\u001b[0m \u001b[0mfunc\u001b[0m\u001b[0;34m\u001b[0m\u001b[0m\n\u001b[1;32m     93\u001b[0m         \u001b[0;32mreturn\u001b[0m \u001b[0mwrapper\u001b[0m\u001b[0;34m\u001b[0m\u001b[0m\n",
            "\u001b[0;32m/usr/local/lib/python3.6/dist-packages/keras/engine/training.py\u001b[0m in \u001b[0;36mfit_generator\u001b[0;34m(self, generator, steps_per_epoch, epochs, verbose, callbacks, validation_data, validation_steps, class_weight, max_queue_size, workers, use_multiprocessing, shuffle, initial_epoch)\u001b[0m\n\u001b[1;32m   2192\u001b[0m                 \u001b[0mbatch_index\u001b[0m \u001b[0;34m=\u001b[0m \u001b[0;36m0\u001b[0m\u001b[0;34m\u001b[0m\u001b[0m\n\u001b[1;32m   2193\u001b[0m                 \u001b[0;32mwhile\u001b[0m \u001b[0msteps_done\u001b[0m \u001b[0;34m<\u001b[0m \u001b[0msteps_per_epoch\u001b[0m\u001b[0;34m:\u001b[0m\u001b[0;34m\u001b[0m\u001b[0m\n\u001b[0;32m-> 2194\u001b[0;31m                     \u001b[0mgenerator_output\u001b[0m \u001b[0;34m=\u001b[0m \u001b[0mnext\u001b[0m\u001b[0;34m(\u001b[0m\u001b[0moutput_generator\u001b[0m\u001b[0;34m)\u001b[0m\u001b[0;34m\u001b[0m\u001b[0m\n\u001b[0m\u001b[1;32m   2195\u001b[0m \u001b[0;34m\u001b[0m\u001b[0m\n\u001b[1;32m   2196\u001b[0m                     \u001b[0;32mif\u001b[0m \u001b[0;32mnot\u001b[0m \u001b[0mhasattr\u001b[0m\u001b[0;34m(\u001b[0m\u001b[0mgenerator_output\u001b[0m\u001b[0;34m,\u001b[0m \u001b[0;34m'__len__'\u001b[0m\u001b[0;34m)\u001b[0m\u001b[0;34m:\u001b[0m\u001b[0;34m\u001b[0m\u001b[0m\n",
            "\u001b[0;32m/usr/local/lib/python3.6/dist-packages/keras/utils/data_utils.py\u001b[0m in \u001b[0;36mget\u001b[0;34m(self)\u001b[0m\n\u001b[1;32m    576\u001b[0m         \u001b[0;32mtry\u001b[0m\u001b[0;34m:\u001b[0m\u001b[0;34m\u001b[0m\u001b[0m\n\u001b[1;32m    577\u001b[0m             \u001b[0;32mwhile\u001b[0m \u001b[0mself\u001b[0m\u001b[0;34m.\u001b[0m\u001b[0mis_running\u001b[0m\u001b[0;34m(\u001b[0m\u001b[0;34m)\u001b[0m\u001b[0;34m:\u001b[0m\u001b[0;34m\u001b[0m\u001b[0m\n\u001b[0;32m--> 578\u001b[0;31m                 \u001b[0minputs\u001b[0m \u001b[0;34m=\u001b[0m \u001b[0mself\u001b[0m\u001b[0;34m.\u001b[0m\u001b[0mqueue\u001b[0m\u001b[0;34m.\u001b[0m\u001b[0mget\u001b[0m\u001b[0;34m(\u001b[0m\u001b[0mblock\u001b[0m\u001b[0;34m=\u001b[0m\u001b[0;32mTrue\u001b[0m\u001b[0;34m)\u001b[0m\u001b[0;34m.\u001b[0m\u001b[0mget\u001b[0m\u001b[0;34m(\u001b[0m\u001b[0;34m)\u001b[0m\u001b[0;34m\u001b[0m\u001b[0m\n\u001b[0m\u001b[1;32m    579\u001b[0m                 \u001b[0mself\u001b[0m\u001b[0;34m.\u001b[0m\u001b[0mqueue\u001b[0m\u001b[0;34m.\u001b[0m\u001b[0mtask_done\u001b[0m\u001b[0;34m(\u001b[0m\u001b[0;34m)\u001b[0m\u001b[0;34m\u001b[0m\u001b[0m\n\u001b[1;32m    580\u001b[0m                 \u001b[0;32mif\u001b[0m \u001b[0minputs\u001b[0m \u001b[0;32mis\u001b[0m \u001b[0;32mnot\u001b[0m \u001b[0;32mNone\u001b[0m\u001b[0;34m:\u001b[0m\u001b[0;34m\u001b[0m\u001b[0m\n",
            "\u001b[0;32m/usr/lib/python3.6/queue.py\u001b[0m in \u001b[0;36mget\u001b[0;34m(self, block, timeout)\u001b[0m\n\u001b[1;32m    162\u001b[0m             \u001b[0;32melif\u001b[0m \u001b[0mtimeout\u001b[0m \u001b[0;32mis\u001b[0m \u001b[0;32mNone\u001b[0m\u001b[0;34m:\u001b[0m\u001b[0;34m\u001b[0m\u001b[0m\n\u001b[1;32m    163\u001b[0m                 \u001b[0;32mwhile\u001b[0m \u001b[0;32mnot\u001b[0m \u001b[0mself\u001b[0m\u001b[0;34m.\u001b[0m\u001b[0m_qsize\u001b[0m\u001b[0;34m(\u001b[0m\u001b[0;34m)\u001b[0m\u001b[0;34m:\u001b[0m\u001b[0;34m\u001b[0m\u001b[0m\n\u001b[0;32m--> 164\u001b[0;31m                     \u001b[0mself\u001b[0m\u001b[0;34m.\u001b[0m\u001b[0mnot_empty\u001b[0m\u001b[0;34m.\u001b[0m\u001b[0mwait\u001b[0m\u001b[0;34m(\u001b[0m\u001b[0;34m)\u001b[0m\u001b[0;34m\u001b[0m\u001b[0m\n\u001b[0m\u001b[1;32m    165\u001b[0m             \u001b[0;32melif\u001b[0m \u001b[0mtimeout\u001b[0m \u001b[0;34m<\u001b[0m \u001b[0;36m0\u001b[0m\u001b[0;34m:\u001b[0m\u001b[0;34m\u001b[0m\u001b[0m\n\u001b[1;32m    166\u001b[0m                 \u001b[0;32mraise\u001b[0m \u001b[0mValueError\u001b[0m\u001b[0;34m(\u001b[0m\u001b[0;34m\"'timeout' must be a non-negative number\"\u001b[0m\u001b[0;34m)\u001b[0m\u001b[0;34m\u001b[0m\u001b[0m\n",
            "\u001b[0;32m/usr/lib/python3.6/threading.py\u001b[0m in \u001b[0;36mwait\u001b[0;34m(self, timeout)\u001b[0m\n\u001b[1;32m    293\u001b[0m         \u001b[0;32mtry\u001b[0m\u001b[0;34m:\u001b[0m    \u001b[0;31m# restore state no matter what (e.g., KeyboardInterrupt)\u001b[0m\u001b[0;34m\u001b[0m\u001b[0m\n\u001b[1;32m    294\u001b[0m             \u001b[0;32mif\u001b[0m \u001b[0mtimeout\u001b[0m \u001b[0;32mis\u001b[0m \u001b[0;32mNone\u001b[0m\u001b[0;34m:\u001b[0m\u001b[0;34m\u001b[0m\u001b[0m\n\u001b[0;32m--> 295\u001b[0;31m                 \u001b[0mwaiter\u001b[0m\u001b[0;34m.\u001b[0m\u001b[0macquire\u001b[0m\u001b[0;34m(\u001b[0m\u001b[0;34m)\u001b[0m\u001b[0;34m\u001b[0m\u001b[0m\n\u001b[0m\u001b[1;32m    296\u001b[0m                 \u001b[0mgotit\u001b[0m \u001b[0;34m=\u001b[0m \u001b[0;32mTrue\u001b[0m\u001b[0;34m\u001b[0m\u001b[0m\n\u001b[1;32m    297\u001b[0m             \u001b[0;32melse\u001b[0m\u001b[0;34m:\u001b[0m\u001b[0;34m\u001b[0m\u001b[0m\n",
            "\u001b[0;31mKeyboardInterrupt\u001b[0m: "
          ]
        }
      ]
    },
    {
      "metadata": {
        "id": "i69gkgFEtymX",
        "colab_type": "code",
        "colab": {}
      },
      "cell_type": "code",
      "source": [
        ""
      ],
      "execution_count": 0,
      "outputs": []
    }
  ]
}